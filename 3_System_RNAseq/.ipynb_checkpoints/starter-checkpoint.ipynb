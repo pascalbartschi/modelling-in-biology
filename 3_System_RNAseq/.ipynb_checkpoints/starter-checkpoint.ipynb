{
 "cells": [
  {
   "cell_type": "code",
   "execution_count": 1,
   "metadata": {
    "id": "dUOA_eYwI6VL"
   },
   "outputs": [],
   "source": [
    "%%capture\n",
    "!sudo apt install libgsl-dev\n",
    "!pip install rpy2==3.5.1\n",
    "%reload_ext rpy2.ipython"
   ]
  },
  {
   "cell_type": "code",
   "execution_count": null,
   "metadata": {
    "id": "XxD2vniyhDxW"
   },
   "outputs": [],
   "source": [
    "%%R\n",
    "system(\"apt-get -y update\")\n",
    "system(\"apt-get install -y libudunits2-dev libgdal-dev libgeos-dev libproj-dev\")\n",
    "system(\"apt-get install -y jags\")\n",
    "install.packages(\"BiocManager\")\n",
    "BiocManager::install(\"TBSignatureProfiler\")\n",
    "BiocManager::install(\"clusterProfiler\", version = \"3.16\")\n",
    "BiocManager::install(\"pathview\")\n",
    "BiocManager::install(\"enrichplot\")\n",
    "BiocManager::install(\"edgeR\")\n",
    "install.packages(\"ggridges\")"
   ]
  },
  {
   "cell_type": "code",
   "execution_count": null,
   "metadata": {
    "id": "MrTqsUkWHNyx"
   },
   "outputs": [],
   "source": [
    "%%R\n",
    "library(clusterProfiler)\n",
    "library(\"org.Hs.eg.db\")\n",
    "library(enrichplot)\n",
    "library(GenomeInfoDb)\n",
    "library(org.Hs.eg.db)\n",
    "library(TBSignatureProfiler)\n",
    "library(pathview)\n",
    "library(edgeR)\n",
    "library(tidyverse)\n",
    "library(ggridges)"
   ]
  },
  {
   "cell_type": "code",
   "execution_count": null,
   "metadata": {
    "id": "SlwKoYCfIJum"
   },
   "outputs": [],
   "source": [
    "%%R\n",
    "##load data again\n",
    "hivtb_data <- TB_hiv\n",
    "##Extract counts per million \n",
    "hivtb_data <- mkAssay(hivtb_data, log = TRUE, counts_to_CPM = TRUE)\n",
    "\n",
    "##Look for genes with at least 3 samples with counts above 0.5 count per million\n",
    "cpmdat = \n",
    "\n",
    "##extract raw counts for each genes and filter those out with less than 3 genes with 0.5 counts per million, \n",
    "##transform all samples columns into numeric variables\n",
    "countdat = \n",
    "\n",
    "##create edgeR object (group \"1\" = TB, group \"0\" = noTB)\n",
    "egr = DGEList(counts = as.matrix(countdat[,2:32]), group = c(rep(1,16),rep(0,15)))\n",
    "\n",
    "##normalize foldchanges in gene expression between sample\n",
    "egr <- calcNormFactors(egr)\n",
    "\n",
    "##Dispersion / distribution of gene counts\n",
    "egr = estimateDisp(egr)\n",
    "\n",
    "##Common dispersion is assuming equal mean and sd among genes\n",
    "##Tagwise dispersion assumes gene-specific dispersions (or genes with a similar distribution)\n",
    "plotBCV(egr)\n"
   ]
  },
  {
   "cell_type": "code",
   "execution_count": null,
   "metadata": {
    "id": "Zxg_wmmwQmHX"
   },
   "outputs": [],
   "source": [
    "%%R\n",
    "##Test gene expression differences between TB and noTB \n",
    "##The test is based on a negative binomial distribution \n",
    "et <- exactTest(egr)\n",
    "\n",
    "et$table %>% \n",
    "  mutate(logp = -log10(PValue)) %>%\n",
    "  ggplot(., aes(logFC,logp )) +\n",
    "  geom_point(aes(color = logp), size = 2/5) +\n",
    "  xlab(expression(\"log2 fold change\")) + \n",
    "  ylab(expression(\"-log10 pvalue\")) +\n",
    "  scale_color_viridis_c()"
   ]
  },
  {
   "cell_type": "code",
   "execution_count": null,
   "metadata": {
    "id": "7Vb0VRWVLkpa"
   },
   "outputs": [],
   "source": [
    "%%R\n",
    "####################################################\n",
    "########### Gene enrichment analysis ###############\n",
    "####################################################\n",
    "\n",
    "#We need to specify our organism of interest, so humans.\n",
    "organism = \"org.Hs.eg.db\"\n",
    "\n",
    "##we need logfoldchange from the previous analysis and gene names\n",
    "genes = cbind(et$table$logFC,cpmdat$V1) %>% as.data.frame()\n",
    "\n",
    "#The gene names, as they are right now are in the \"Gene card symbol\" format.\n",
    "#For the analysis we should changed them to the ensembl coding.\n",
    "hs <- org.Hs.eg.db\n",
    "genenames = AnnotationDbi::select(hs, \n",
    "       keys = genes$V2,\n",
    "       columns = c(\"ENSEMBL\", \"SYMBOL\"),\n",
    "       keytype = \"SYMBOL\",\n",
    "       multiVals = \"First\")\n",
    "\n",
    "#Some genes could not be recognized and are NA. Other have multiple ensembl ids.\n",
    "#For simplicity remove the NAs and duplciates (take the first).\n",
    "genes = genes %>% merge(.,genenames, by.x = \"V2\", by.y = \"SYMBOL\") %>% filter(ENSEMBL != \"<NA>\") %>% filter(!duplicated(ENSEMBL))\n",
    "\n",
    "#Now extract the log2fold changes into a single vector, \n",
    "#name each value with the corresponding ensembl gene name, and sort the values decreasingly.\n",
    "genenrich = as.numeric(genes$V1)\n",
    "names(genenrich) = genes$ENSEMBL\n",
    "\n",
    "#Sort the list in decreasing order \n",
    "genenrich = sort(genenrich, decreasing = TRUE)\n",
    "\n",
    "#Now we can run the geneenrichment analysis\n",
    "gse <- gseGO(geneList=genenrich, \n",
    "             ont =\"ALL\", \n",
    "             keyType = \"ENSEMBL\", \n",
    "             minGSSize = 3, \n",
    "             maxGSSize = 800, \n",
    "             pvalueCutoff = 0.05, \n",
    "             verbose = TRUE, \n",
    "             OrgDb = organism, \n",
    "             pAdjustMethod = \"none\",\n",
    "             eps = 0)\n",
    "\n",
    "##Visualisation of enrichment\n",
    "ridgeplot(gse) + labs(x = \"enrichment distribution\")"
   ]
  },
  {
   "cell_type": "code",
   "execution_count": null,
   "metadata": {
    "id": "ysnaRfMKNdsC"
   },
   "outputs": [],
   "source": [
    "%%R\n",
    "require(DOSE)\n",
    "dotplot(gse, showCategory=10, split=\".sign\") + facet_grid(.~.sign)"
   ]
  },
  {
   "cell_type": "code",
   "execution_count": null,
   "metadata": {
    "id": "_ppw6d_WNicp"
   },
   "outputs": [],
   "source": [
    "%%R\n",
    "# Convert gene IDs for gseKEGG function\n",
    "# We will lose some genes here because not all IDs will be converted\n",
    "ids<-bitr(names(genenrich), fromType = \"ENSEMBL\", toType = \"ENTREZID\", OrgDb=organism)\n",
    "# remove duplicate IDS (here I use \"ENSEMBL\", but it should be whatever was selected as keyType)\n",
    "dedup_ids = ids[!duplicated(ids[c(\"ENSEMBL\")]),]\n",
    "\n",
    "# Create a new dataframe df2 which has only the genes which were successfully mapped using the bitr function above\n",
    "kegg_gene_list = genenrich[names(genenrich) %in% dedup_ids$ENSEMBL] \n",
    "\n",
    "# Name vector with ENTREZ ids\n",
    "names(kegg_gene_list) <- dedup_ids$ENTREZID\n",
    "\n",
    "# omit any NA values \n",
    "kegg_gene_list<-na.omit(kegg_gene_list)\n",
    "\n",
    "# sort the list in decreasing order (required for clusterProfiler)\n",
    "kegg_gene_list = sort(kegg_gene_list, decreasing = TRUE)\n",
    "\n",
    "kegg_organism = \"hsa\"\n",
    "kk2 <- gseKEGG(geneList     = kegg_gene_list,\n",
    "               organism     = kegg_organism,\n",
    "               minGSSize    = 3,\n",
    "               maxGSSize    = 800,\n",
    "               pvalueCutoff = 0.05,\n",
    "               pAdjustMethod = \"none\",\n",
    "               keyType       = \"ncbi-geneid\",\n",
    "               eps = 0)\n",
    "\n",
    "\n",
    "\n",
    "# Produce the native KEGG plot (PNG) (need to specify id)\n",
    "dme <- pathview(gene.data=kegg_gene_list, pathway.id=\"...\", species = kegg_organism)"
   ]
  }
 ],
 "metadata": {
  "colab": {
   "provenance": []
  },
  "gpuClass": "standard",
  "kernelspec": {
   "display_name": "Python 3 (ipykernel)",
   "language": "python",
   "name": "python3"
  },
  "language_info": {
   "codemirror_mode": {
    "name": "ipython",
    "version": 3
   },
   "file_extension": ".py",
   "mimetype": "text/x-python",
   "name": "python",
   "nbconvert_exporter": "python",
   "pygments_lexer": "ipython3",
   "version": "3.9.12"
  },
  "vscode": {
   "interpreter": {
    "hash": "a665b5d41d17b532ea9890333293a1b812fa0b73c9c25c950b3cedf1bebd0438"
   }
  }
 },
 "nbformat": 4,
 "nbformat_minor": 1
}
